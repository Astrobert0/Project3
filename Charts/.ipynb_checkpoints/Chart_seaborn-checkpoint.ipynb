{
 "cells": [
  {
   "cell_type": "code",
   "execution_count": 9,
   "metadata": {},
   "outputs": [
    {
     "data": {
      "text/html": [
       "<div>\n",
       "<style scoped>\n",
       "    .dataframe tbody tr th:only-of-type {\n",
       "        vertical-align: middle;\n",
       "    }\n",
       "\n",
       "    .dataframe tbody tr th {\n",
       "        vertical-align: top;\n",
       "    }\n",
       "\n",
       "    .dataframe thead th {\n",
       "        text-align: right;\n",
       "    }\n",
       "</style>\n",
       "<table border=\"1\" class=\"dataframe\">\n",
       "  <thead>\n",
       "    <tr style=\"text-align: right;\">\n",
       "      <th></th>\n",
       "      <th>Event</th>\n",
       "      <th>Views</th>\n",
       "      <th>Location</th>\n",
       "      <th>Year</th>\n",
       "    </tr>\n",
       "  </thead>\n",
       "  <tbody>\n",
       "    <tr>\n",
       "      <th>0</th>\n",
       "      <td>Sydney 2000</td>\n",
       "      <td>3.70</td>\n",
       "      <td>Sydney</td>\n",
       "      <td>2000</td>\n",
       "    </tr>\n",
       "    <tr>\n",
       "      <th>1</th>\n",
       "      <td>Salt Lake City 2002</td>\n",
       "      <td>2.10</td>\n",
       "      <td>Salt Lake City</td>\n",
       "      <td>2002</td>\n",
       "    </tr>\n",
       "    <tr>\n",
       "      <th>2</th>\n",
       "      <td>Athens 2004</td>\n",
       "      <td>3.90</td>\n",
       "      <td>Athens</td>\n",
       "      <td>2004</td>\n",
       "    </tr>\n",
       "    <tr>\n",
       "      <th>3</th>\n",
       "      <td>Turin 2006</td>\n",
       "      <td>1.60</td>\n",
       "      <td>Turin</td>\n",
       "      <td>2006</td>\n",
       "    </tr>\n",
       "    <tr>\n",
       "      <th>4</th>\n",
       "      <td>Beijing 2008</td>\n",
       "      <td>4.70</td>\n",
       "      <td>Beijing</td>\n",
       "      <td>2008</td>\n",
       "    </tr>\n",
       "    <tr>\n",
       "      <th>5</th>\n",
       "      <td>Vancouver 2010</td>\n",
       "      <td>1.80</td>\n",
       "      <td>Vancouver</td>\n",
       "      <td>2010</td>\n",
       "    </tr>\n",
       "    <tr>\n",
       "      <th>6</th>\n",
       "      <td>London 2012</td>\n",
       "      <td>3.60</td>\n",
       "      <td>London</td>\n",
       "      <td>2012</td>\n",
       "    </tr>\n",
       "    <tr>\n",
       "      <th>7</th>\n",
       "      <td>Sochi 2014</td>\n",
       "      <td>2.10</td>\n",
       "      <td>Sochi</td>\n",
       "      <td>2014</td>\n",
       "    </tr>\n",
       "    <tr>\n",
       "      <th>8</th>\n",
       "      <td>Rio 2016</td>\n",
       "      <td>7.20</td>\n",
       "      <td>Rio</td>\n",
       "      <td>2016</td>\n",
       "    </tr>\n",
       "    <tr>\n",
       "      <th>9</th>\n",
       "      <td>PyeongChang 2018</td>\n",
       "      <td>1.92</td>\n",
       "      <td>PyeongChang</td>\n",
       "      <td>2018</td>\n",
       "    </tr>\n",
       "  </tbody>\n",
       "</table>\n",
       "</div>"
      ],
      "text/plain": [
       "                 Event  Views        Location  Year\n",
       "0          Sydney 2000   3.70          Sydney  2000\n",
       "1  Salt Lake City 2002   2.10  Salt Lake City  2002\n",
       "2          Athens 2004   3.90          Athens  2004\n",
       "3           Turin 2006   1.60           Turin  2006\n",
       "4         Beijing 2008   4.70         Beijing  2008\n",
       "5       Vancouver 2010   1.80       Vancouver  2010\n",
       "6          London 2012   3.60          London  2012\n",
       "7           Sochi 2014   2.10           Sochi  2014\n",
       "8             Rio 2016   7.20             Rio  2016\n",
       "9     PyeongChang 2018   1.92     PyeongChang  2018"
      ]
     },
     "execution_count": 9,
     "metadata": {},
     "output_type": "execute_result"
    }
   ],
   "source": [
    "import pandas as pd\n",
    "import numpy as np\n",
    "import seaborn as sns\n",
    "import matplotlib.pyplot as plt\n",
    "\n",
    "decade_broadcast = pd.read_csv(r'C:\\Users\\Sebas!\\Documents\\GitHub\\Project3\\decade_broadcast.csv')\n",
    "decade_broadcast.rename(columns ={'Unnamed: 0':'Event'}, inplace = True)\n",
    "\n",
    "TV_subs = pd.read_csv(r'C:\\Users\\Sebas!\\Documents\\GitHub\\Project3\\TV_subscribers_to_2015.csv')\n",
    "TV_subs.drop(columns = 'Telephone company TV subscribers', inplace = True)\n",
    "\n",
    "decade_broadcast"
   ]
  },
  {
   "cell_type": "code",
   "execution_count": 2,
   "metadata": {},
   "outputs": [
    {
     "data": {
      "image/png": "[encoded data removed]",
      "text/plain": [
       "<Figure size 432x288 with 1 Axes>"
      ]
     },
     "metadata": {
      "needs_background": "light"
     },
     "output_type": "display_data"
    }
   ],
   "source": [
    "#TV Subscriptions\n",
    "\n",
    "y_axis1 = TV_subs['Cable TV subscribers (In millions)']\n",
    "x_axis1 = TV_subs['Year']\n",
    "\n",
    "plt.title('USA TV cable subcriptions')\n",
    "plt.ylabel('Subcriptions (Millions)')\n",
    "plt.plot(x_axis1, y_axis1, color ='r' ,marker = '.')\n",
    "plt.savefig('US_Cable_Subs.png')\n",
    "\n",
    "\n"
   ]
  },
  {
   "cell_type": "code",
   "execution_count": 13,
   "metadata": {},
   "outputs": [
    {
     "data": {
      "text/plain": [
       "<Figure size 1440x432 with 0 Axes>"
      ]
     },
     "execution_count": 13,
     "metadata": {},
     "output_type": "execute_result"
    },
    {
     "data": {
      "image/png": "[encoded data removed]",
      "text/plain": [
       "<Figure size 432x288 with 1 Axes>"
      ]
     },
     "metadata": {
      "needs_background": "light"
     },
     "output_type": "display_data"
    },
    {
     "data": {
      "text/plain": [
       "<Figure size 1440x432 with 0 Axes>"
      ]
     },
     "metadata": {},
     "output_type": "display_data"
    }
   ],
   "source": [
    "#Olympics broadcast\n",
    "y_axis2 = decade_broadcast['Views']\n",
    "x_axis2 = decade_broadcast['Event']\n",
    "\n",
    "plt.plot(x_axis2, y_axis2, color = 'r', marker= '.')\n",
    "plt.title('Global broadcast')\n",
    "plt.ylabel('Views (in billion)')\n",
    "plt.figure(figsize= (20,6))\n"
   ]
  },
  {
   "cell_type": "code",
   "execution_count": null,
   "metadata": {},
   "outputs": [],
   "source": []
  }
 ],
 "metadata": {
  "kernelspec": {
   "display_name": "Python 3",
   "language": "python",
   "name": "python3"
  },
  "language_info": {
   "codemirror_mode": {
    "name": "ipython",
    "version": 3
   },
   "file_extension": ".py",
   "mimetype": "text/x-python",
   "name": "python",
   "nbconvert_exporter": "python",
   "pygments_lexer": "ipython3",
   "version": "3.8.5"
  }
 },
 "nbformat": 4,
 "nbformat_minor": 4
}
