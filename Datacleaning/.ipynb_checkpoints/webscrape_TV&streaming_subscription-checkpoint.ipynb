{
 "cells": [
  {
   "cell_type": "code",
   "execution_count": 1,
   "metadata": {},
   "outputs": [],
   "source": [
    "import requests\n",
    "from bs4 import BeautifulSoup\n",
    "import pandas as pd\n",
    "\n",
    "#Wikipedia link has the subcription of TV cable (US) from 1990 to 2015\n",
    "url = 'https://en.wikipedia.org/wiki/Cable_television_in_the_United_States'\n",
    "html = requests.get(url)\n",
    "soup = BeautifulSoup(html.content,features = \"lxml\")\n",
    "\n",
    "table = soup.find_all('table', {'class': 'wikitable unsortable'})[0]#Locate the table and assign\n",
    "                                                                    #the 1st value of the list\n",
    "rows = table.find_all('tr')# Locate the HTML part where it appear the rows & columns of the table\n",
    "row = [row.text.strip().split('\\n') for row in rows] #Extract the values\n",
    "col = row[0]#select, then assign the 1st value of the list\n",
    "col.remove('')#Remove characters\n",
    "col.remove('')\n",
    "\n",
    "df = pd.DataFrame(row[1:], columns = col)#Convert to data frame"
   ]
  },
  {
   "cell_type": "code",
   "execution_count": 14,
   "metadata": {},
   "outputs": [
    {
     "name": "stderr",
     "output_type": "stream",
     "text": [
      "<ipython-input-14-09955f6d0670>:21: SettingWithCopyWarning: \n",
      "A value is trying to be set on a copy of a slice from a DataFrame.\n",
      "Try using .loc[row_indexer,col_indexer] = value instead\n",
      "\n",
      "See the caveats in the documentation: https://pandas.pydata.org/pandas-docs/stable/user_guide/indexing.html#returning-a-view-versus-a-copy\n",
      "  from2000['Cable TV subscribers'] = from2000[ 'Cable TV subscribers'] / 1000000\n",
      "c:\\users\\sebas!\\appdata\\local\\programs\\python\\python38\\lib\\site-packages\\pandas\\core\\frame.py:4296: SettingWithCopyWarning: \n",
      "A value is trying to be set on a copy of a slice from a DataFrame\n",
      "\n",
      "See the caveats in the documentation: https://pandas.pydata.org/pandas-docs/stable/user_guide/indexing.html#returning-a-view-versus-a-copy\n",
      "  return super().rename(\n"
     ]
    }
   ],
   "source": [
    "#data cleaning\n",
    "pattern1 = r'[A-Za-z\\.]+ ' #Words for year colums\n",
    "pattern2 = r'\\[\\d+]' #Numbers in sqr brackets in column 2 & 3\n",
    "pattern3 = r'\\,'\n",
    "\n",
    "#Regex\n",
    "df['Year'].replace(regex = pattern1, value = '', inplace = True) #Remove  the months in text\n",
    "df['Cable TV subscribers'].replace(regex = pattern2, value = '', inplace = True) #Remove numbers inside sqr. Brackets\n",
    "df['Cable TV subscribers'].replace(regex = pattern3, value = '', inplace = True)#Remove characters\n",
    "\n",
    "\n",
    "\n",
    "#change Data Types\n",
    "df['Year'] = df['Year'].astype('int32') #Changing data type\n",
    "df['Cable TV subscribers'] = df['Cable TV subscribers'].astype('int32')\n",
    "\n",
    "#Filter and assign values to a variable\n",
    "from2000 = df.loc[df['Year'] >= 2000]\n",
    "\n",
    "#Changing some details\n",
    "from2000['Cable TV subscribers'] = from2000[ 'Cable TV subscribers'] / 1000000\n",
    "from2000.rename(columns = {'Cable TV subscribers':'Cable TV subscribers (In millions)'}, inplace = True)\n",
    "\n",
    "from2000.drop(columns = 'Telephone company TV subscribers', inplace = True)#Dropping the column with most null values\n"
   ]
  },
  {
   "cell_type": "code",
   "execution_count": 18,
   "metadata": {},
   "outputs": [],
   "source": [
    "from2000 = from2000.to_csv(r'C:\\Users\\Sebas!\\Documents\\GitHub\\Project3\\TV_subscribers_to_2015.csv', index = False)"
   ]
  },
  {
   "cell_type": "code",
   "execution_count": null,
   "metadata": {},
   "outputs": [],
   "source": []
  }
 ],
 "metadata": {
  "kernelspec": {
   "display_name": "Python 3",
   "language": "python",
   "name": "python3"
  },
  "language_info": {
   "codemirror_mode": {
    "name": "ipython",
    "version": 3
   },
   "file_extension": ".py",
   "mimetype": "text/x-python",
   "name": "python",
   "nbconvert_exporter": "python",
   "pygments_lexer": "ipython3",
   "version": "3.8.5"
  }
 },
 "nbformat": 4,
 "nbformat_minor": 4
}
