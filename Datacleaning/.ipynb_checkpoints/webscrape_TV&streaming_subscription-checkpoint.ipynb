{
 "cells": [
  {
   "cell_type": "code",
   "execution_count": 1,
   "metadata": {},
   "outputs": [],
   "source": [
    "import requests\n",
    "from bs4 import BeautifulSoup\n",
    "import pandas as pd\n",
    "from selenium import webdriver\n",
    "from selenium.webdriver.common.keys import Keys\n",
    "from selenium.webdriver.common.by import By\n",
    "\n",
    "\n",
    "\"\"\"TV CABLE WEBSCRAPP\"\"\"\n",
    "\n",
    "#Wikipedia link has the subcription of TV cable (US) from 1990 to 2015\n",
    "url_1 = 'https://en.wikipedia.org/wiki/Cable_television_in_the_United_States'\n",
    "html_1 = requests.get(url_1)\n",
    "soup_1 = BeautifulSoup(html_1.content,features = \"lxml\")\n",
    "\n",
    "table = soup_1.find_all('table', {'class': 'wikitable unsortable'})[0]#Locate the table and assign\n",
    "                                                                    #the 1st value of the list\n",
    "rows = table.find_all('tr')# Locate the HTML part where it appear the rows & columns of the table\n",
    "row = [row.text.strip().split('\\n') for row in rows] #Extract the values\n",
    "col = row[0]#select, then assign the 1st value of the list\n",
    "col.remove('')#Remove characters\n",
    "col.remove('')\n",
    "\n",
    "df = pd.DataFrame(row[1:], columns = col)#Convert to data frame\n"
   ]
  },
  {
   "cell_type": "code",
   "execution_count": 6,
   "metadata": {},
   "outputs": [
    {
     "name": "stderr",
     "output_type": "stream",
     "text": [
      "<ipython-input-6-520c6c072837>:21: SettingWithCopyWarning: \n",
      "A value is trying to be set on a copy of a slice from a DataFrame.\n",
      "Try using .loc[row_indexer,col_indexer] = value instead\n",
      "\n",
      "See the caveats in the documentation: https://pandas.pydata.org/pandas-docs/stable/user_guide/indexing.html#returning-a-view-versus-a-copy\n",
      "  from2000['Cable TV subscribers'] = from2000[ 'Cable TV subscribers'] / 1000000\n",
      "c:\\users\\sebas!\\appdata\\local\\programs\\python\\python38\\lib\\site-packages\\pandas\\core\\frame.py:4296: SettingWithCopyWarning: \n",
      "A value is trying to be set on a copy of a slice from a DataFrame\n",
      "\n",
      "See the caveats in the documentation: https://pandas.pydata.org/pandas-docs/stable/user_guide/indexing.html#returning-a-view-versus-a-copy\n",
      "  return super().rename(\n",
      "c:\\users\\sebas!\\appdata\\local\\programs\\python\\python38\\lib\\site-packages\\pandas\\core\\frame.py:4163: SettingWithCopyWarning: \n",
      "A value is trying to be set on a copy of a slice from a DataFrame\n",
      "\n",
      "See the caveats in the documentation: https://pandas.pydata.org/pandas-docs/stable/user_guide/indexing.html#returning-a-view-versus-a-copy\n",
      "  return super().drop(\n"
     ]
    }
   ],
   "source": [
    "#data cleaning\n",
    "pattern1 = r'[A-Za-z\\.]+ ' #Words for year colums\n",
    "pattern2 = r'\\[\\d+]' #Numbers in sqr brackets in column 2 & 3\n",
    "pattern3 = r'\\,'\n",
    "\n",
    "#Regex\n",
    "df['Year'].replace(regex = pattern1, value = '', inplace = True) #Remove  the months in text\n",
    "df['Cable TV subscribers'].replace(regex = pattern2, value = '', inplace = True) #Remove numbers inside sqr. Brackets\n",
    "df['Cable TV subscribers'].replace(regex = pattern3, value = '', inplace = True)#Remove characters\n",
    "\n",
    "\n",
    "\n",
    "#change Data Types\n",
    "df['Year'] = df['Year'].astype('int32') #Changing data type\n",
    "df['Cable TV subscribers'] = df['Cable TV subscribers'].astype('int32')\n",
    "\n",
    "#Filter and assign values to a variable\n",
    "from2000 = df.loc[df['Year'] >= 2000]\n",
    "\n",
    "#Changing some details\n",
    "from2000['Cable TV subscribers'] = from2000[ 'Cable TV subscribers'] / 1000000\n",
    "from2000.rename(columns = {'Cable TV subscribers':'Cable TV subscribers (In millions)'}, inplace = True)\n",
    "\n",
    "from2000.drop(columns = 'Telephone company TV subscribers', inplace = True)#Dropping the column with most null values\n"
   ]
  },
  {
   "cell_type": "code",
   "execution_count": 18,
   "metadata": {},
   "outputs": [],
   "source": [
    "from2000 = from2000.to_csv(r'C:\\Users\\Sebas!\\Documents\\GitHub\\Project3\\TV_subscribers_to_2015.csv', index = False)"
   ]
  },
  {
   "cell_type": "code",
   "execution_count": 12,
   "metadata": {},
   "outputs": [
    {
     "ename": "AttributeError",
     "evalue": "'NoneType' object has no attribute 'find_element_by_class_name'",
     "output_type": "error",
     "traceback": [
      "\u001b[1;31m---------------------------------------------------------------------------\u001b[0m",
      "\u001b[1;31mAttributeError\u001b[0m                            Traceback (most recent call last)",
      "\u001b[1;32m<ipython-input-12-bf432ca38227>\u001b[0m in \u001b[0;36m<module>\u001b[1;34m\u001b[0m\n\u001b[0;32m      5\u001b[0m \u001b[1;33m\u001b[0m\u001b[0m\n\u001b[0;32m      6\u001b[0m \u001b[0mhtml_2\u001b[0m \u001b[1;33m=\u001b[0m \u001b[0mdriver\u001b[0m\u001b[1;33m.\u001b[0m\u001b[0mget\u001b[0m\u001b[1;33m(\u001b[0m\u001b[0murl2\u001b[0m\u001b[1;33m)\u001b[0m\u001b[1;33m\u001b[0m\u001b[1;33m\u001b[0m\u001b[0m\n\u001b[1;32m----> 7\u001b[1;33m \u001b[0mcontent\u001b[0m \u001b[1;33m=\u001b[0m \u001b[0mhtml_2\u001b[0m\u001b[1;33m.\u001b[0m\u001b[0mfind_element_by_class_name\u001b[0m\u001b[1;33m(\u001b[0m\u001b[1;34m'wikitable sortable jquery-tablesorter'\u001b[0m\u001b[1;33m)\u001b[0m\u001b[1;33m\u001b[0m\u001b[1;33m\u001b[0m\u001b[0m\n\u001b[0m",
      "\u001b[1;31mAttributeError\u001b[0m: 'NoneType' object has no attribute 'find_element_by_class_name'"
     ]
    }
   ],
   "source": [
    "\"\"\"STREAMING SERVICE PROVIDERS\"\"\"\n",
    "PATH = r'C:\\Program Files (x86)\\chromedriver.exe'\n",
    "driver = webdriver.Chrome(PATH)\n",
    "url2 = 'https://en.wikipedia.org/wiki/Streaming_service_provider'\n",
    "\n",
    "html_2 = driver.get(url2)\n",
    "content = html_2.find_element_by_class_name('wikitable sortable jquery-tablesorter')\n"
   ]
  },
  {
   "cell_type": "code",
   "execution_count": 27,
   "metadata": {},
   "outputs": [
    {
     "ename": "NameError",
     "evalue": "name 'search' is not defined",
     "output_type": "error",
     "traceback": [
      "\u001b[1;31m---------------------------------------------------------------------------\u001b[0m",
      "\u001b[1;31mNameError\u001b[0m                                 Traceback (most recent call last)",
      "\u001b[1;32m<ipython-input-27-00f01d2dd201>\u001b[0m in \u001b[0;36m<module>\u001b[1;34m\u001b[0m\n\u001b[1;32m----> 1\u001b[1;33m \u001b[0mprint\u001b[0m\u001b[1;33m(\u001b[0m\u001b[0msearch\u001b[0m\u001b[1;33m.\u001b[0m\u001b[0mtext\u001b[0m\u001b[1;33m)\u001b[0m\u001b[1;33m\u001b[0m\u001b[1;33m\u001b[0m\u001b[0m\n\u001b[0m",
      "\u001b[1;31mNameError\u001b[0m: name 'search' is not defined"
     ]
    }
   ],
   "source": []
  },
  {
   "cell_type": "code",
   "execution_count": null,
   "metadata": {},
   "outputs": [],
   "source": []
  }
 ],
 "metadata": {
  "kernelspec": {
   "display_name": "Python 3",
   "language": "python",
   "name": "python3"
  },
  "language_info": {
   "codemirror_mode": {
    "name": "ipython",
    "version": 3
   },
   "file_extension": ".py",
   "mimetype": "text/x-python",
   "name": "python",
   "nbconvert_exporter": "python",
   "pygments_lexer": "ipython3",
   "version": "3.8.5"
  }
 },
 "nbformat": 4,
 "nbformat_minor": 4
}
